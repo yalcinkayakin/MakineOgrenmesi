{
 "cells": [
  {
   "cell_type": "code",
   "execution_count": 22,
   "metadata": {
    "collapsed": true
   },
   "outputs": [],
   "source": [
    "import pandas as pd\n",
    "import numpy as np\n",
    "import pickle\n",
    "from sklearn import ensemble\n",
    "from sklearn import model_selection,tree,linear_model\n",
    "from sklearn.feature_selection import SelectFromModel\n",
    "from sklearn.naive_bayes import GaussianNB\n",
    "from sklearn.neural_network import MLPClassifier"
   ]
  },
  {
   "cell_type": "code",
   "execution_count": 23,
   "metadata": {},
   "outputs": [],
   "source": [
    "hrm=pd.read_csv(\"data/hrm.csv\")\n",
    "X=hrm.drop([\"Attrition\",\"Gender\",\"PerformanceRating\",\"PerformanceRating\"],axis=1).values\n",
    "y=hrm['PerformanceRating'].values"
   ]
  },
  {
   "cell_type": "code",
   "execution_count": 24,
   "metadata": {},
   "outputs": [],
   "source": [
    "feature_selector=ensemble.ExtraTreesClassifier().fit(X,y)\n",
    "model=SelectFromModel(feature_selector,prefit=True)\n",
    "X_new=model.transform(X)\n",
    "feature_count=X_new.shape[1]\n",
    "\n",
    "X_train,X_test,y_train,y_test=model_selection.train_test_split(X_new,y,test_size=0.40)\n",
    "\n"
   ]
  },
  {
   "cell_type": "code",
   "execution_count": 25,
   "metadata": {},
   "outputs": [],
   "source": [
    "model_results ={}\n",
    "\n",
    "model_params={\n",
    "    GaussianNB():{},\n",
    "    \n",
    "    tree.DecisionTreeClassifier():{\n",
    "        'max_depth':list(range(1,20)),\n",
    "        'max_features':list(range(1,feature_count+1))\n",
    "    },\n",
    "    MLPClassifier():{\n",
    "        'activation':['tanh','relu','logistic'],\n",
    "        'solver':['sgd','adam'],\n",
    "        'alpha':[1e-4,1e-3,1e-2],\n",
    "        'max_iter':[10,15,20]\n",
    "    },\n",
    "    ensemble.RandomForestClassifier():{\n",
    "        'n_estimators':[10,100,1000],\n",
    "        'max_depth':list(range(1,20)),\n",
    "        'max_features':list(range(1,feature_count+1))\n",
    "    }\n",
    "}"
   ]
  },
  {
   "cell_type": "code",
   "execution_count": 26,
   "metadata": {},
   "outputs": [
    {
     "name": "stderr",
     "output_type": "stream",
     "text": [
      "/home/akinyalcinkaya/anaconda2/envs/akinyalcinkaya/lib/python2.7/site-packages/sklearn/neural_network/multilayer_perceptron.py:564: ConvergenceWarning: Stochastic Optimizer: Maximum iterations (15) reached and the optimization hasn't converged yet.\n",
      "  % self.max_iter, ConvergenceWarning)\n",
      "/home/akinyalcinkaya/anaconda2/envs/akinyalcinkaya/lib/python2.7/site-packages/sklearn/neural_network/multilayer_perceptron.py:564: ConvergenceWarning: Stochastic Optimizer: Maximum iterations (15) reached and the optimization hasn't converged yet.\n",
      "  % self.max_iter, ConvergenceWarning)\n",
      "/home/akinyalcinkaya/anaconda2/envs/akinyalcinkaya/lib/python2.7/site-packages/sklearn/neural_network/multilayer_perceptron.py:564: ConvergenceWarning: Stochastic Optimizer: Maximum iterations (15) reached and the optimization hasn't converged yet.\n",
      "  % self.max_iter, ConvergenceWarning)\n",
      "/home/akinyalcinkaya/anaconda2/envs/akinyalcinkaya/lib/python2.7/site-packages/sklearn/neural_network/multilayer_perceptron.py:564: ConvergenceWarning: Stochastic Optimizer: Maximum iterations (20) reached and the optimization hasn't converged yet.\n",
      "  % self.max_iter, ConvergenceWarning)\n",
      "/home/akinyalcinkaya/anaconda2/envs/akinyalcinkaya/lib/python2.7/site-packages/sklearn/neural_network/multilayer_perceptron.py:564: ConvergenceWarning: Stochastic Optimizer: Maximum iterations (20) reached and the optimization hasn't converged yet.\n",
      "  % self.max_iter, ConvergenceWarning)\n",
      "/home/akinyalcinkaya/anaconda2/envs/akinyalcinkaya/lib/python2.7/site-packages/sklearn/neural_network/multilayer_perceptron.py:564: ConvergenceWarning: Stochastic Optimizer: Maximum iterations (20) reached and the optimization hasn't converged yet.\n",
      "  % self.max_iter, ConvergenceWarning)\n",
      "/home/akinyalcinkaya/anaconda2/envs/akinyalcinkaya/lib/python2.7/site-packages/sklearn/neural_network/multilayer_perceptron.py:564: ConvergenceWarning: Stochastic Optimizer: Maximum iterations (20) reached and the optimization hasn't converged yet.\n",
      "  % self.max_iter, ConvergenceWarning)\n",
      "/home/akinyalcinkaya/anaconda2/envs/akinyalcinkaya/lib/python2.7/site-packages/sklearn/neural_network/multilayer_perceptron.py:564: ConvergenceWarning: Stochastic Optimizer: Maximum iterations (15) reached and the optimization hasn't converged yet.\n",
      "  % self.max_iter, ConvergenceWarning)\n"
     ]
    }
   ],
   "source": [
    "from sklearn.grid_search import GridSearchCV\n",
    "\n",
    "for model,params in model_params.iteritems():\n",
    "    grid=GridSearchCV(estimator=model,param_grid=params,n_jobs=4)\n",
    "    grid.fit(X_train,y_train)\n",
    "    \n",
    "    test_score=grid.best_estimator_.score(X_test,y_test)\n",
    "    model_results[grid.best_estimator_]=test_score"
   ]
  },
  {
   "cell_type": "code",
   "execution_count": 27,
   "metadata": {
    "scrolled": true
   },
   "outputs": [
    {
     "name": "stdout",
     "output_type": "stream",
     "text": [
      "DecisionTreeClassifier(class_weight=None, criterion='gini', max_depth=1,\n",
      "            max_features=1, max_leaf_nodes=None, min_impurity_decrease=0.0,\n",
      "            min_impurity_split=None, min_samples_leaf=1,\n",
      "            min_samples_split=2, min_weight_fraction_leaf=0.0,\n",
      "            presort=False, random_state=None, splitter='best')\n",
      "1.0\n"
     ]
    }
   ],
   "source": [
    "best_model=max(model_results,key=model_results.get)\n",
    "\n",
    "print best_model\n",
    "print model_results[best_model]"
   ]
  }
 ],
 "metadata": {
  "kernelspec": {
   "display_name": "Python 2",
   "language": "python",
   "name": "python2"
  },
  "language_info": {
   "codemirror_mode": {
    "name": "ipython",
    "version": 2
   },
   "file_extension": ".py",
   "mimetype": "text/x-python",
   "name": "python",
   "nbconvert_exporter": "python",
   "pygments_lexer": "ipython2",
   "version": "2.7.14"
  }
 },
 "nbformat": 4,
 "nbformat_minor": 2
}

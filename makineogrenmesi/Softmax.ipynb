{
  "nbformat": 4,
  "nbformat_minor": 0,
  "metadata": {
    "colab": {
      "name": "Softmax.ipynb",
      "version": "0.3.2",
      "views": {},
      "default_view": {},
      "provenance": []
    },
    "kernelspec": {
      "name": "python2",
      "display_name": "Python 2"
    },
    "accelerator": "GPU"
  },
  "cells": [
    {
      "metadata": {
        "id": "v1H8xolvOY_V",
        "colab_type": "code",
        "colab": {
          "autoexec": {
            "startup": false,
            "wait_interval": 0
          }
        }
      },
      "cell_type": "code",
      "source": [
        "%matplotlib inline\n",
        "\n",
        "from __future__ import absolute_import\n",
        "from __future__ import division\n",
        "from __future__ import print_function "
      ],
      "execution_count": 0,
      "outputs": []
    },
    {
      "metadata": {
        "id": "N6AdCtWMO5E3",
        "colab_type": "code",
        "colab": {
          "autoexec": {
            "startup": false,
            "wait_interval": 0
          }
        }
      },
      "cell_type": "code",
      "source": [
        "import matplotlib.pyplot as plt\n",
        "\n",
        "import tensorflow as tf\n",
        "from tensorflow.examples.tutorials.mnist import input_data"
      ],
      "execution_count": 0,
      "outputs": []
    },
    {
      "metadata": {
        "id": "h2OSMgm9O5bi",
        "colab_type": "code",
        "colab": {
          "autoexec": {
            "startup": false,
            "wait_interval": 0
          },
          "output_extras": [
            {
              "item_id": 2
            }
          ],
          "base_uri": "https://localhost:8080/",
          "height": 153
        },
        "outputId": "2a173a69-3594-45a5-de0b-dc1a4a551927",
        "executionInfo": {
          "status": "ok",
          "timestamp": 1519550128291,
          "user_tz": -180,
          "elapsed": 1680,
          "user": {
            "displayName": "akın yalçınkaya",
            "photoUrl": "//lh4.googleusercontent.com/-Ee_c7axErkI/AAAAAAAAAAI/AAAAAAAAABQ/JwfGPdH--7M/s50-c-k-no/photo.jpg",
            "userId": "100367937902555164218"
          }
        }
      },
      "cell_type": "code",
      "source": [
        "mnist=input_data.read_data_sets(\"MNIST_data\",one_hot=True)"
      ],
      "execution_count": 4,
      "outputs": [
        {
          "output_type": "stream",
          "text": [
            "Successfully downloaded train-images-idx3-ubyte.gz 9912422 bytes.\n",
            "Extracting MNIST_data/train-images-idx3-ubyte.gz\n",
            "Successfully downloaded train-labels-idx1-ubyte.gz 28881 bytes.\n",
            "Extracting MNIST_data/train-labels-idx1-ubyte.gz\n",
            "Successfully downloaded t10k-images-idx3-ubyte.gz 1648877 bytes.\n",
            "Extracting MNIST_data/t10k-images-idx3-ubyte.gz\n",
            "Successfully downloaded t10k-labels-idx1-ubyte.gz 4542 bytes.\n",
            "Extracting MNIST_data/t10k-labels-idx1-ubyte.gz\n"
          ],
          "name": "stdout"
        }
      ]
    },
    {
      "metadata": {
        "id": "RVyJ-R8bO5xj",
        "colab_type": "code",
        "colab": {
          "autoexec": {
            "startup": false,
            "wait_interval": 0
          },
          "output_extras": [
            {
              "item_id": 1
            }
          ],
          "base_uri": "https://localhost:8080/",
          "height": 54
        },
        "outputId": "aa5694b3-2f9e-4994-ce07-13b2bf6db2af",
        "executionInfo": {
          "status": "ok",
          "timestamp": 1519550143175,
          "user_tz": -180,
          "elapsed": 703,
          "user": {
            "displayName": "akın yalçınkaya",
            "photoUrl": "//lh4.googleusercontent.com/-Ee_c7axErkI/AAAAAAAAAAI/AAAAAAAAABQ/JwfGPdH--7M/s50-c-k-no/photo.jpg",
            "userId": "100367937902555164218"
          }
        }
      },
      "cell_type": "code",
      "source": [
        "mnist"
      ],
      "execution_count": 5,
      "outputs": [
        {
          "output_type": "execute_result",
          "data": {
            "text/plain": [
              "Datasets(train=<tensorflow.contrib.learn.python.learn.datasets.mnist.DataSet object at 0x7fc1737e9a90>, validation=<tensorflow.contrib.learn.python.learn.datasets.mnist.DataSet object at 0x7fc1331ca350>, test=<tensorflow.contrib.learn.python.learn.datasets.mnist.DataSet object at 0x7fc12c069110>)"
            ]
          },
          "metadata": {
            "tags": []
          },
          "execution_count": 5
        }
      ]
    },
    {
      "metadata": {
        "id": "UWGKQB32O6D0",
        "colab_type": "code",
        "colab": {
          "autoexec": {
            "startup": false,
            "wait_interval": 0
          },
          "output_extras": [
            {
              "item_id": 1
            }
          ],
          "base_uri": "https://localhost:8080/",
          "height": 34
        },
        "outputId": "d82b046e-b6ba-41aa-d390-c87ac1b7816f",
        "executionInfo": {
          "status": "ok",
          "timestamp": 1519550163795,
          "user_tz": -180,
          "elapsed": 723,
          "user": {
            "displayName": "akın yalçınkaya",
            "photoUrl": "//lh4.googleusercontent.com/-Ee_c7axErkI/AAAAAAAAAAI/AAAAAAAAABQ/JwfGPdH--7M/s50-c-k-no/photo.jpg",
            "userId": "100367937902555164218"
          }
        }
      },
      "cell_type": "code",
      "source": [
        "mnist.train.images.shape"
      ],
      "execution_count": 6,
      "outputs": [
        {
          "output_type": "execute_result",
          "data": {
            "text/plain": [
              "(55000, 784)"
            ]
          },
          "metadata": {
            "tags": []
          },
          "execution_count": 6
        }
      ]
    },
    {
      "metadata": {
        "id": "duFuI0q5O6Yj",
        "colab_type": "code",
        "colab": {
          "autoexec": {
            "startup": false,
            "wait_interval": 0
          },
          "output_extras": [
            {
              "item_id": 1
            }
          ],
          "base_uri": "https://localhost:8080/",
          "height": 34
        },
        "outputId": "978c8098-25a5-4a9f-fec4-10373062ca54",
        "executionInfo": {
          "status": "ok",
          "timestamp": 1519550206865,
          "user_tz": -180,
          "elapsed": 701,
          "user": {
            "displayName": "akın yalçınkaya",
            "photoUrl": "//lh4.googleusercontent.com/-Ee_c7axErkI/AAAAAAAAAAI/AAAAAAAAABQ/JwfGPdH--7M/s50-c-k-no/photo.jpg",
            "userId": "100367937902555164218"
          }
        }
      },
      "cell_type": "code",
      "source": [
        "mnist.train.labels.shape"
      ],
      "execution_count": 7,
      "outputs": [
        {
          "output_type": "execute_result",
          "data": {
            "text/plain": [
              "(55000, 10)"
            ]
          },
          "metadata": {
            "tags": []
          },
          "execution_count": 7
        }
      ]
    },
    {
      "metadata": {
        "id": "Qaqph5M6O6rY",
        "colab_type": "code",
        "colab": {
          "autoexec": {
            "startup": false,
            "wait_interval": 0
          }
        }
      },
      "cell_type": "code",
      "source": [
        "x=tf.placeholder(tf.float32,[None,784])\n",
        "y_=tf.placeholder(tf.float32,[None,10])\n",
        "\n",
        "W=tf.Variable(tf.zeros([784,10]))\n",
        "b=tf.Variable(tf.zeros([10]))"
      ],
      "execution_count": 0,
      "outputs": []
    },
    {
      "metadata": {
        "id": "W_86PW2SQhSu",
        "colab_type": "code",
        "colab": {
          "autoexec": {
            "startup": false,
            "wait_interval": 0
          }
        }
      },
      "cell_type": "code",
      "source": [
        "y=tf.matmul(x,W)+b"
      ],
      "execution_count": 0,
      "outputs": []
    },
    {
      "metadata": {
        "id": "L6hAAcNJQq3y",
        "colab_type": "code",
        "colab": {
          "autoexec": {
            "startup": false,
            "wait_interval": 0
          }
        }
      },
      "cell_type": "code",
      "source": [
        "cost_func=tf.reduce_mean(tf.nn.softmax_cross_entropy_with_logits(labels=y_,logits=y)) "
      ],
      "execution_count": 0,
      "outputs": []
    },
    {
      "metadata": {
        "id": "sYJgoO7GQhrG",
        "colab_type": "code",
        "colab": {
          "autoexec": {
            "startup": false,
            "wait_interval": 0
          }
        }
      },
      "cell_type": "code",
      "source": [
        "train_step=tf.train.GradientDescentOptimizer(0.5).minimize(cost_func)"
      ],
      "execution_count": 0,
      "outputs": []
    },
    {
      "metadata": {
        "id": "Ik5TumXMQh8c",
        "colab_type": "code",
        "colab": {
          "autoexec": {
            "startup": false,
            "wait_interval": 0
          }
        }
      },
      "cell_type": "code",
      "source": [
        "sess=tf.InteractiveSession()\n",
        "\n",
        "tf.global_variables_initializer().run()"
      ],
      "execution_count": 0,
      "outputs": []
    },
    {
      "metadata": {
        "id": "bBh0s4kHRhna",
        "colab_type": "code",
        "colab": {
          "autoexec": {
            "startup": false,
            "wait_interval": 0
          }
        }
      },
      "cell_type": "code",
      "source": [
        "for _ in range(100):\n",
        "  x_batch,y_batch=mnist.train.next_batch(50)\n",
        "  sess.run(train_step,feed_dict={x:x_batch,y_ :y_batch})"
      ],
      "execution_count": 0,
      "outputs": []
    },
    {
      "metadata": {
        "id": "tL05ORYuQiMm",
        "colab_type": "code",
        "colab": {
          "autoexec": {
            "startup": false,
            "wait_interval": 0
          },
          "output_extras": [
            {
              "item_id": 1
            }
          ],
          "base_uri": "https://localhost:8080/",
          "height": 34
        },
        "outputId": "e2cd26b4-19af-4644-bd74-33fdee925037",
        "executionInfo": {
          "status": "ok",
          "timestamp": 1519550922170,
          "user_tz": -180,
          "elapsed": 680,
          "user": {
            "displayName": "akın yalçınkaya",
            "photoUrl": "//lh4.googleusercontent.com/-Ee_c7axErkI/AAAAAAAAAAI/AAAAAAAAABQ/JwfGPdH--7M/s50-c-k-no/photo.jpg",
            "userId": "100367937902555164218"
          }
        }
      },
      "cell_type": "code",
      "source": [
        "correct_prediction=tf.equal(tf.arg_max(y,1),tf.argmax(y_,1))\n",
        "\n",
        "accuracy=tf.reduce_mean(tf.cast(correct_prediction,tf.float32))\n",
        "\n",
        "print(sess.run(accuracy,feed_dict={x:mnist.test.images,y_:mnist.test.labels}))"
      ],
      "execution_count": 19,
      "outputs": [
        {
          "output_type": "stream",
          "text": [
            "0.8847\n"
          ],
          "name": "stdout"
        }
      ]
    },
    {
      "metadata": {
        "id": "ReJrau-PSw3K",
        "colab_type": "code",
        "colab": {
          "autoexec": {
            "startup": false,
            "wait_interval": 0
          }
        }
      },
      "cell_type": "code",
      "source": [
        "testimage=mnist.test.images[122]\n",
        "\n"
      ],
      "execution_count": 0,
      "outputs": []
    },
    {
      "metadata": {
        "id": "lEdJQ5OHS73o",
        "colab_type": "code",
        "colab": {
          "autoexec": {
            "startup": false,
            "wait_interval": 0
          },
          "output_extras": [
            {
              "item_id": 1
            }
          ],
          "base_uri": "https://localhost:8080/",
          "height": 265
        },
        "outputId": "85db1b7f-cf2c-4295-d6a7-8e67b6ca1a40",
        "executionInfo": {
          "status": "ok",
          "timestamp": 1519551328377,
          "user_tz": -180,
          "elapsed": 659,
          "user": {
            "displayName": "akın yalçınkaya",
            "photoUrl": "//lh4.googleusercontent.com/-Ee_c7axErkI/AAAAAAAAAAI/AAAAAAAAABQ/JwfGPdH--7M/s50-c-k-no/photo.jpg",
            "userId": "100367937902555164218"
          }
        }
      },
      "cell_type": "code",
      "source": [
        "plt.imshow(testimage.reshape(28,28),cmap='gray')\n",
        "plt.show()"
      ],
      "execution_count": 48,
      "outputs": [
        {
          "output_type": "display_data",
          "data": {
            "image/png": "[encoded data removed]",
            "text/plain": [
              "<matplotlib.figure.Figure at 0x7fc12715d450>"
            ]
          },
          "metadata": {
            "tags": []
          }
        }
      ]
    },
    {
      "metadata": {
        "id": "YB-BIW9zTY-b",
        "colab_type": "code",
        "colab": {
          "autoexec": {
            "startup": false,
            "wait_interval": 0
          }
        }
      },
      "cell_type": "code",
      "source": [
        "prediction=tf.arg_max(y,1)\n"
      ],
      "execution_count": 0,
      "outputs": []
    },
    {
      "metadata": {
        "id": "MZUu1ULATd9B",
        "colab_type": "code",
        "colab": {
          "autoexec": {
            "startup": false,
            "wait_interval": 0
          },
          "output_extras": [
            {
              "item_id": 1
            }
          ],
          "base_uri": "https://localhost:8080/",
          "height": 34
        },
        "outputId": "622f113f-6c9e-42ce-f792-5d3bb02fc5a3",
        "executionInfo": {
          "status": "ok",
          "timestamp": 1519551347087,
          "user_tz": -180,
          "elapsed": 704,
          "user": {
            "displayName": "akın yalçınkaya",
            "photoUrl": "//lh4.googleusercontent.com/-Ee_c7axErkI/AAAAAAAAAAI/AAAAAAAAABQ/JwfGPdH--7M/s50-c-k-no/photo.jpg",
            "userId": "100367937902555164218"
          }
        }
      },
      "cell_type": "code",
      "source": [
        "prediction.eval(feed_dict={x: [testimage]},session=sess)"
      ],
      "execution_count": 50,
      "outputs": [
        {
          "output_type": "execute_result",
          "data": {
            "text/plain": [
              "array([7])"
            ]
          },
          "metadata": {
            "tags": []
          },
          "execution_count": 50
        }
      ]
    }
  ]
}
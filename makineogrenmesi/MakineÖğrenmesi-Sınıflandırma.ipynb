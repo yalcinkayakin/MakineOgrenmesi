{
 "cells": [
  {
   "cell_type": "code",
   "execution_count": 1,
   "metadata": {
    "collapsed": true
   },
   "outputs": [],
   "source": [
    "%matplotlib inline\n",
    "import matplotlib.pyplot as plt\n",
    "import numpy as np\n",
    "from sklearn import datasets"
   ]
  },
  {
   "cell_type": "code",
   "execution_count": 2,
   "metadata": {
    "collapsed": true
   },
   "outputs": [],
   "source": [
    "from sklearn.model_selection import train_test_split\n",
    "\n",
    "number_dataset=datasets.load_digits()\n",
    "\n",
    "x=number_dataset.data\n",
    "y=number_dataset.target\n",
    "\n",
    "X_train,X_test,y_train,y_test=train_test_split(x,y,test_size=0.5)"
   ]
  },
  {
   "cell_type": "code",
   "execution_count": 3,
   "metadata": {},
   "outputs": [
    {
     "name": "stdout",
     "output_type": "stream",
     "text": [
      "0.993325917686\n"
     ]
    }
   ],
   "source": [
    "from sklearn.svm import SVC\n",
    "\n",
    "model=SVC(gamma=0.001,probability=True)\n",
    "model.fit(X_train,y_train)\n",
    "print model.score(X_test,y_test)"
   ]
  },
  {
   "cell_type": "code",
   "execution_count": 4,
   "metadata": {},
   "outputs": [
    {
     "name": "stdout",
     "output_type": "stream",
     "text": [
      "9\n"
     ]
    },
    {
     "data": {
      "text/plain": [
       "<matplotlib.image.AxesImage at 0x7f87935f1410>"
      ]
     },
     "execution_count": 4,
     "metadata": {},
     "output_type": "execute_result"
    },
    {
     "data": {
      "image/png": "[encoded data removed]",
      "text/plain": [
       "<matplotlib.figure.Figure at 0x7f879a77b110>"
      ]
     },
     "metadata": {},
     "output_type": "display_data"
    }
   ],
   "source": [
    "sample=X_test[100,:]\n",
    "print model.predict(sample.reshape(1,-1))[0]\n",
    "\n",
    "plt.imshow(sample.reshape(8,8),cmap=plt.cm.gray_r,interpolation='nearest')"
   ]
  },
  {
   "cell_type": "code",
   "execution_count": 6,
   "metadata": {},
   "outputs": [
    {
     "name": "stdout",
     "output_type": "stream",
     "text": [
      "             precision    recall  f1-score   support\n",
      "\n",
      "          0       1.00      1.00      1.00        87\n",
      "          1       1.00      1.00      1.00        95\n",
      "          2       1.00      1.00      1.00        95\n",
      "          3       0.98      0.99      0.98        99\n",
      "          4       0.98      1.00      0.99        83\n",
      "          5       0.99      1.00      0.99        96\n",
      "          6       1.00      1.00      1.00        77\n",
      "          7       1.00      0.98      0.99        94\n",
      "          8       1.00      1.00      1.00        80\n",
      "          9       0.99      0.97      0.98        93\n",
      "\n",
      "avg / total       0.99      0.99      0.99       899\n",
      "\n"
     ]
    }
   ],
   "source": [
    "from sklearn.metrics import classification_report\n",
    "\n",
    "print classification_report(model.predict(X_test),y_test)"
   ]
  },
  {
   "cell_type": "code",
   "execution_count": 9,
   "metadata": {},
   "outputs": [
    {
     "name": "stdout",
     "output_type": "stream",
     "text": [
      "tahmin edilen sınıf: 9\n",
      "olasılık değerleri:\n",
      "[ 0.00666332  0.00241691  0.01430799  0.05126568  0.00357381  0.01123668\n",
      "  0.00422434  0.00405443  0.01315721  0.88909965]\n"
     ]
    }
   ],
   "source": [
    "sample=X_test[100,:].reshape(1,-1)\n",
    "\n",
    "print(u\"tahmin edilen sınıf: %d\" % model.predict(sample)[0])\n",
    "print(u\"olasılık değerleri:\")\n",
    "print(model.predict_proba(sample)[0])"
   ]
  },
  {
   "cell_type": "code",
   "execution_count": 10,
   "metadata": {},
   "outputs": [
    {
     "name": "stdout",
     "output_type": "stream",
     "text": [
      "tahmin edilen sınıf: 9\n",
      "olasılık değerleri:\n",
      "[ 0.03199529  0.10748114  0.1162879   0.0669346   0.10445335  0.10311719\n",
      "  0.05117487  0.10467512  0.13021781  0.18366274]\n"
     ]
    },
    {
     "data": {
      "text/plain": [
       "<matplotlib.image.AxesImage at 0x7f87934d0390>"
      ]
     },
     "execution_count": 10,
     "metadata": {},
     "output_type": "execute_result"
    },
    {
     "data": {
      "image/png": "[encoded data removed]",
      "text/plain": [
       "<matplotlib.figure.Figure at 0x7f87935c1b90>"
      ]
     },
     "metadata": {},
     "output_type": "display_data"
    }
   ],
   "source": [
    "sample = np.zeros((1, 64), dtype=np.int16)\n",
    "\n",
    "\n",
    "print(u\"tahmin edilen sınıf: %d\" % model.predict(sample)[0])\n",
    "print(u\"olasılık değerleri:\")\n",
    "print(model.predict_proba(sample)[0])\n",
    "\n",
    "plt.imshow(sample.reshape(8, 8), cmap=plt.cm.gray_r, interpolation='nearest')\n"
   ]
  }
 ],
 "metadata": {
  "kernelspec": {
   "display_name": "Python 2",
   "language": "python",
   "name": "python2"
  },
  "language_info": {
   "codemirror_mode": {
    "name": "ipython",
    "version": 2
   },
   "file_extension": ".py",
   "mimetype": "text/x-python",
   "name": "python",
   "nbconvert_exporter": "python",
   "pygments_lexer": "ipython2",
   "version": "2.7.14"
  }
 },
 "nbformat": 4,
 "nbformat_minor": 2
}

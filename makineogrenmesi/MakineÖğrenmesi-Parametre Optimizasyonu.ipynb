{
 "cells": [
  {
   "cell_type": "code",
   "execution_count": 2,
   "metadata": {},
   "outputs": [],
   "source": [
    "%matplotlib inline\n",
    "import matplotlib.pyplot as plt\n",
    "import numpy as np\n",
    "from sklearn import datasets"
   ]
  },
  {
   "cell_type": "code",
   "execution_count": 3,
   "metadata": {
    "collapsed": true
   },
   "outputs": [],
   "source": [
    "iris=datasets.load_iris()\n",
    "\n",
    "x=iris.data\n",
    "y=iris.target\n",
    "\n"
   ]
  },
  {
   "cell_type": "code",
   "execution_count": 6,
   "metadata": {},
   "outputs": [
    {
     "name": "stdout",
     "output_type": "stream",
     "text": [
      "DecisionTreeClassifier(class_weight=None, criterion='gini', max_depth=3,\n",
      "            max_features=3, max_leaf_nodes=None, min_impurity_decrease=0.0,\n",
      "            min_impurity_split=None, min_samples_leaf=1,\n",
      "            min_samples_split=2, min_weight_fraction_leaf=0.0,\n",
      "            presort=False, random_state=None, splitter='best')\n"
     ]
    }
   ],
   "source": [
    "from sklearn.cross_validation import StratifiedKFold\n",
    "from sklearn.grid_search import GridSearchCV\n",
    "from sklearn.tree import DecisionTreeClassifier\n",
    "\n",
    "model=DecisionTreeClassifier()\n",
    "\n",
    "parameters={'max_depth':list(range(1,11)),\n",
    "           'max_features':[1,2,3,4]\n",
    "           }\n",
    "\n",
    "cv=StratifiedKFold(y,n_folds=10)\n",
    "\n",
    "grid=GridSearchCV(model,param_grid=parameters,cv=cv)\n",
    "\n",
    "grid.fit(x,y)\n",
    "print grid.best_estimator_"
   ]
  },
  {
   "cell_type": "code",
   "execution_count": 7,
   "metadata": {},
   "outputs": [
    {
     "name": "stdout",
     "output_type": "stream",
     "text": [
      "0.96\n"
     ]
    }
   ],
   "source": [
    "print grid.best_score_"
   ]
  },
  {
   "cell_type": "code",
   "execution_count": 8,
   "metadata": {},
   "outputs": [
    {
     "name": "stdout",
     "output_type": "stream",
     "text": [
      "{'max_features': 3, 'max_depth': 3}\n"
     ]
    }
   ],
   "source": [
    "print grid.best_params_"
   ]
  },
  {
   "cell_type": "code",
   "execution_count": 11,
   "metadata": {},
   "outputs": [
    {
     "name": "stdout",
     "output_type": "stream",
     "text": [
      "Tahmin edilen sınıf:0\n"
     ]
    }
   ],
   "source": [
    "sample=np.array([4.0,3.0,2.0,5.0]).reshape(1,-1)\n",
    "\n",
    "print(U\"Tahmin edilen sınıf:%d\"  % grid.best_estimator_.predict(sample)[0])"
   ]
  },
  {
   "cell_type": "code",
   "execution_count": 12,
   "metadata": {
    "collapsed": true
   },
   "outputs": [],
   "source": [
    "cancer=datasets.load_breast_cancer()\n",
    "\n",
    "x=cancer.data\n",
    "y=cancer.target"
   ]
  },
  {
   "cell_type": "code",
   "execution_count": 14,
   "metadata": {},
   "outputs": [
    {
     "name": "stdout",
     "output_type": "stream",
     "text": [
      "DecisionTreeClassifier(class_weight=None, criterion='gini', max_depth=11,\n",
      "            max_features=6, max_leaf_nodes=None, min_impurity_decrease=0.0,\n",
      "            min_impurity_split=None, min_samples_leaf=1,\n",
      "            min_samples_split=2, min_weight_fraction_leaf=0.0,\n",
      "            presort=False, random_state=None, splitter='best')\n",
      "0.952548330404\n"
     ]
    }
   ],
   "source": [
    "model=DecisionTreeClassifier()\n",
    "\n",
    "parameters={\n",
    "    'max_depth':list(range(1,26)),\n",
    "    'max_features':list(range(1,31))\n",
    "}\n",
    "\n",
    "cv=StratifiedKFold(y,n_folds=15)\n",
    "\n",
    "grid=GridSearchCV(model,param_grid=parameters,cv=cv)\n",
    "\n",
    "grid.fit(x,y)\n",
    "\n",
    "print grid.best_estimator_\n",
    "\n",
    "print grid.best_score_"
   ]
  },
  {
   "cell_type": "code",
   "execution_count": 18,
   "metadata": {},
   "outputs": [],
   "source": [
    "from sklearn.model_selection import train_test_split\n",
    "\n",
    "data=datasets.load_digits()\n",
    "\n",
    "x=data.data\n",
    "y=data.target\n",
    "\n",
    "X_train,X_test,y_train,y_test=train_test_split(x,y,test_size=.30)\n",
    "\n"
   ]
  },
  {
   "cell_type": "code",
   "execution_count": 20,
   "metadata": {},
   "outputs": [
    {
     "name": "stdout",
     "output_type": "stream",
     "text": [
      "Skor tipi: precision\n",
      "Parametreler:\n",
      "{'kernel': 'rbf', 'C': 10, 'gamma': 0.0005}\n",
      "Eğitim Skoru: 0.99092521\n",
      "Test Skoru: 0.99074074\n",
      "\n",
      "Skor tipi: recall\n",
      "Parametreler:\n",
      "{'kernel': 'rbf', 'C': 10, 'gamma': 0.0005}\n",
      "Eğitim Skoru: 0.98998534\n",
      "Test Skoru: 0.99074074\n",
      "\n"
     ]
    }
   ],
   "source": [
    "from sklearn.svm import SVC\n",
    "\n",
    "model = SVC()\n",
    "\n",
    "parameters = [\n",
    "    {'kernel': ['rbf'], 'gamma': [1e-3, 5e-4, 1e-4], 'C': [1, 10, 100, 1000]},\n",
    "    {'kernel': ['linear'], 'C': [1, 10, 100, 1000]}\n",
    "]\n",
    "\n",
    "scores = ['precision', 'recall']\n",
    "\n",
    "my_model = None\n",
    "\n",
    "for score in scores:\n",
    "    grid = GridSearchCV(estimator=SVC(probability=True),\n",
    "                        param_grid=parameters,\n",
    "                        scoring='%s_macro' % score)\n",
    "    \n",
    "    grid.fit(X_train, y_train)\n",
    "    \n",
    "    print(\"Skor tipi: %s\" % score)\n",
    "    print(\"Parametreler:\")\n",
    "    print(grid.best_params_)\n",
    "    \n",
    "    print(\"Eğitim Skoru: %.8f\" % grid.best_score_)\n",
    "    print(\"Test Skoru: %.8f\" % grid.best_estimator_.score(X_test, y_test))\n",
    "    print\n",
    "    my_model = grid.best_estimator_"
   ]
  },
  {
   "cell_type": "code",
   "execution_count": null,
   "metadata": {},
   "outputs": [
    {
     "name": "stdout",
     "output_type": "stream",
     "text": [
      "Tahmin edilen değer: 4\n",
      "\n",
      "Sonucun 0 olma ihtimali: %2.72\n",
      "Sonucun 1 olma ihtimali: %0.41\n",
      "Sonucun 2 olma ihtimali: %0.11\n",
      "Sonucun 3 olma ihtimali: %0.11\n",
      "Sonucun 4 olma ihtimali: %93.15\n",
      "Sonucun 5 olma ihtimali: %0.64\n",
      "Sonucun 6 olma ihtimali: %1.44\n",
      "Sonucun 7 olma ihtimali: %0.36\n",
      "Sonucun 8 olma ihtimali: %0.82\n",
      "Sonucun 9 olma ihtimali: %0.25\n"
     ]
    }
   ],
   "source": [
    "sample = X_test[150, :].reshape(1, -1)\n",
    "\n",
    "print(u'Tahmin edilen değer: %d\\n' % my_model.predict(sample)[0])\n",
    "\n",
    "for index, value in enumerate(my_model.predict_proba(sample)[0]):\n",
    "    print(u\"Sonucun %d olma ihtimali: %%%.2f\" % (index, float(value * 100.0)))\n",
    "\n",
    "plt.imshow(sample.reshape(8, 8), cmap=plt.cm.gray_r, interpolation='nearest')"
   ]
  }
 ],
 "metadata": {
  "kernelspec": {
   "display_name": "Python 2",
   "language": "python",
   "name": "python2"
  },
  "language_info": {
   "codemirror_mode": {
    "name": "ipython",
    "version": 2
   },
   "file_extension": ".py",
   "mimetype": "text/x-python",
   "name": "python",
   "nbconvert_exporter": "python",
   "pygments_lexer": "ipython2",
   "version": "2.7.14"
  }
 },
 "nbformat": 4,
 "nbformat_minor": 2
}

{
 "cells": [
  {
   "cell_type": "code",
   "execution_count": 20,
   "metadata": {
    "collapsed": true
   },
   "outputs": [],
   "source": [
    "import pandas as pd\n",
    "import numpy as np\n",
    "import pickle\n",
    "from sklearn import ensemble\n",
    "from sklearn import model_selection,tree,linear_model\n",
    "from sklearn.feature_selection import SelectFromModel\n",
    "from sklearn.naive_bayes import GaussianNB\n",
    "from sklearn.neural_network import MLPClassifier\n"
   ]
  },
  {
   "cell_type": "code",
   "execution_count": 21,
   "metadata": {},
   "outputs": [],
   "source": [
    "data=pd.read_csv(\"data/data.csv\",sep=\"|\")\n",
    "X=data.drop([\"Name\",\"md5\",\"legitimate\"],axis=1).values\n",
    "Y=data['legitimate'].values"
   ]
  },
  {
   "cell_type": "code",
   "execution_count": 22,
   "metadata": {
    "collapsed": true
   },
   "outputs": [],
   "source": [
    "feature_selector=ensemble.ExtraTreesClassifier().fit(X,Y)\n",
    "model=SelectFromModel(feature_selector,prefit=True)\n",
    "X_new=model.transform(X)\n",
    "feature_count=X_new.shape[1]\n",
    "\n",
    "X_train,X_test,y_train,y_test=model_selection.train_test_split(X_new,Y,test_size=0.30)\n"
   ]
  },
  {
   "cell_type": "code",
   "execution_count": 23,
   "metadata": {},
   "outputs": [],
   "source": [
    "\n",
    "\n",
    "model_results = {}\n",
    "\n",
    "models_params = {\n",
    "    GaussianNB(): {},\n",
    "\n",
    "    tree.DecisionTreeClassifier(): {\n",
    "        'max_depth': list(range(1, 20)),\n",
    "        'max_features': list(range(1, feature_count + 1))\n",
    "    },\n",
    "    \n",
    "    MLPClassifier(): {\n",
    "        'activation': ['tanh', 'relu', 'logistic'],\n",
    "        'solver': ['sgd', 'adam'],\n",
    "        'alpha': [1e-4, 1e-3, 1e-2],\n",
    "        'max_iter': [10, 15,20]\n",
    "    },\n",
    "    \n",
    "    ensemble.RandomForestClassifier(): {\n",
    "        'n_estimators': [10, 100, 1000],\n",
    "        'max_depth': list(range(1, 20)),\n",
    "        'max_features': list(range(1, feature_count + 1))\n",
    "    }\n",
    "}"
   ]
  },
  {
   "cell_type": "code",
   "execution_count": null,
   "metadata": {
    "scrolled": true
   },
   "outputs": [],
   "source": [
    "from sklearn.grid_search import GridSearchCV\n",
    "\n",
    "for model,params ,in models_params.iteritems():\n",
    "    \n",
    "    grid=GridSearchCV(estimator=model,param_grid=params,n_jobs=4)\n",
    "    grid.fit(X_test,y_test)\n",
    "    \n",
    "    test_score=grid.best_estimator_.score(X_test,y_test)\n",
    "    model_results[grid.best_estimator_]=test_score"
   ]
  },
  {
   "cell_type": "code",
   "execution_count": 18,
   "metadata": {},
   "outputs": [
    {
     "name": "stdout",
     "output_type": "stream",
     "text": [
      "GaussianNB(priors=None)\n",
      "0.702281781963\n"
     ]
    }
   ],
   "source": [
    "best_model=max(model_results,key=model_results.get)\n",
    "\n",
    "print best_model\n",
    "print model_results[best_model]"
   ]
  },
  {
   "cell_type": "code",
   "execution_count": null,
   "metadata": {
    "collapsed": true
   },
   "outputs": [],
   "source": [
    "import pickle \n",
    "with open('data/malware_detector.pkl','wb') as f:\n",
    "    pickle.dump(best_model,f)\n",
    "    \n",
    "    "
   ]
  },
  {
   "cell_type": "code",
   "execution_count": null,
   "metadata": {
    "collapsed": true
   },
   "outputs": [],
   "source": [
    "with open('data/malware_detector.pkl','rb') as f:\n",
    "    model=pickle.load(f)\n",
    "    \n",
    "sample=X_test[500,:].reshape(1,-1)\n",
    "\n",
    "print(u'Tahmin edilen sınıf: %d' % model.predict(sample)[0])\n",
    "print(u'Confidence değerleri:%d' % model.predict_proba(sample)[0])\n",
    "\n"
   ]
  }
 ],
 "metadata": {
  "kernelspec": {
   "display_name": "Python 2",
   "language": "python",
   "name": "python2"
  },
  "language_info": {
   "codemirror_mode": {
    "name": "ipython",
    "version": 2
   },
   "file_extension": ".py",
   "mimetype": "text/x-python",
   "name": "python",
   "nbconvert_exporter": "python",
   "pygments_lexer": "ipython2",
   "version": "2.7.14"
  }
 },
 "nbformat": 4,
 "nbformat_minor": 2
}

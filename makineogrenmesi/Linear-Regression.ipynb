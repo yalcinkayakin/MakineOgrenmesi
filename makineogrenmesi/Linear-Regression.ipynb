{
 "cells": [
  {
   "cell_type": "code",
   "execution_count": 2,
   "metadata": {},
   "outputs": [],
   "source": [
    "#gerekli paketleri yüklüyoruz burada linear regressin için\n",
    "from sklearn.linear_model import LinearRegression\n",
    "from sklearn.model_selection import train_test_split\n",
    "\n",
    "import numpy as np\n",
    "import pandas as pd\n",
    "import seaborn as sns\n",
    "\n",
    "import matplotlib.pyplot as plt\n",
    "import matplotlib as mpl\n",
    "from mpl_toolkits.mplot3d import Axes3D\n",
    "\n",
    "%matplotlib inline"
   ]
  },
  {
   "cell_type": "code",
   "execution_count": 4,
   "metadata": {},
   "outputs": [],
   "source": [
    "#verisetimizi yüklüyoruz\n",
    "linear=pd.read_csv(\"data/linreg.txt\",names=['X','Y'])"
   ]
  },
  {
   "cell_type": "code",
   "execution_count": 8,
   "metadata": {},
   "outputs": [
    {
     "data": {
      "image/png": "[encoded data removed]",
      "text/plain": [
       "<matplotlib.figure.Figure at 0x7f8ba173e490>"
      ]
     },
     "metadata": {},
     "output_type": "display_data"
    }
   ],
   "source": [
    "#elimizdeki verileri görselleştiyoruz\n",
    "sns.regplot(x='X',y='Y',data=linear,fit_reg=False)\n",
    "plt.show()"
   ]
  },
  {
   "cell_type": "code",
   "execution_count": 11,
   "metadata": {},
   "outputs": [],
   "source": [
    "#verisetimizi eğitim ve test diye ayırıyoruz...\n",
    "X_train,X_test,y_train,y_test=np.asarray(train_test_split(linear['X'],linear['Y'],test_size=0.1))"
   ]
  },
  {
   "cell_type": "code",
   "execution_count": 12,
   "metadata": {
    "collapsed": true
   },
   "outputs": [],
   "source": [
    "reg=LinearRegression()"
   ]
  },
  {
   "cell_type": "code",
   "execution_count": 14,
   "metadata": {},
   "outputs": [
    {
     "data": {
      "text/plain": [
       "array([  8.5186,   5.6407,  18.945 ,   8.8254,  21.279 ,   6.3261,\n",
       "         7.6366,  13.394 ,   6.1891,   5.1793,   5.8598,   7.0708,\n",
       "        10.136 ,  12.828 ,  14.164 ,   7.9334,   5.1301,   5.6063,\n",
       "         5.5649,  14.908 ,   7.5386,   8.2934,  11.7   ,  22.203 ,\n",
       "         7.3345,   5.8918,   6.5159,   7.4764,   7.6031,   5.0365,\n",
       "         5.0546,   5.3794,   5.8014,   5.4369,   5.4994,   6.1101,\n",
       "         6.8825,   8.3829,   6.3534,  10.236 ,   5.2524,   6.3557,\n",
       "        20.27  ,   6.0062,   5.8707,   7.8247,   5.7077,   5.1077,\n",
       "         5.4069,   9.2482,  10.957 ,   6.3328,   6.3589,   7.0032,\n",
       "         7.2259,  18.959 ,   6.4296,  11.708 ,   5.1884,   7.0931,\n",
       "         5.3054,  20.341 ,   6.3654,   5.0702,   5.7737,   9.3102,\n",
       "         5.734 ,   5.0269,   5.7107,  10.274 ,   9.7687,   7.4239,\n",
       "         6.5894,   5.0594,   5.5277,   8.4084,   5.7292,   5.3077,\n",
       "         5.4901,   8.5172,   8.2951,   7.5402,   6.4862,   5.5416,\n",
       "         9.4536,   8.2111,   6.002 ])"
      ]
     },
     "execution_count": 14,
     "metadata": {},
     "output_type": "execute_result"
    }
   ],
   "source": [
    "X_train.values #X_train bulunan değerler"
   ]
  },
  {
   "cell_type": "code",
   "execution_count": 16,
   "metadata": {},
   "outputs": [
    {
     "data": {
      "text/plain": [
       "array([  0.29678,   2.4756 ,   6.7981 ,  14.692  ,   4.8852 ,   0.152  ,\n",
       "         4.1164 ,  10.117  ,  12.     ,   4.6042 ])"
      ]
     },
     "execution_count": 16,
     "metadata": {},
     "output_type": "execute_result"
    }
   ],
   "source": [
    "y_test.values"
   ]
  },
  {
   "cell_type": "code",
   "execution_count": 17,
   "metadata": {},
   "outputs": [
    {
     "data": {
      "text/plain": [
       "LinearRegression(copy_X=True, fit_intercept=True, n_jobs=1, normalize=False)"
      ]
     },
     "execution_count": 17,
     "metadata": {},
     "output_type": "execute_result"
    }
   ],
   "source": [
    "reg.fit(X_train.values.reshape(-1,1),y_train.values.reshape(-1,1))"
   ]
  },
  {
   "cell_type": "code",
   "execution_count": 26,
   "metadata": {},
   "outputs": [
    {
     "name": "stdout",
     "output_type": "stream",
     "text": [
      "('Score:', 0.67754364035668624)\n"
     ]
    }
   ],
   "source": [
    "#belli bir performans score alıyoruz\n",
    "print('Score:',reg.score(X_test.values.reshape(-1,1),y_test.values.reshape(-1,1)))"
   ]
  },
  {
   "cell_type": "code",
   "execution_count": 30,
   "metadata": {},
   "outputs": [
    {
     "data": {
      "image/png": "[encoded data removed]",
      "text/plain": [
       "<matplotlib.figure.Figure at 0x7f8b9a1171d0>"
      ]
     },
     "metadata": {},
     "output_type": "display_data"
    }
   ],
   "source": [
    "#bulduğumuz sonucları görselleştiriyoruz\n",
    "x_line = np.arange(5,25).reshape(-1,1)\n",
    "sns.regplot(x=linear['X'], y=linear['Y'], data=linear, fit_reg=False)\n",
    "\n",
    "plt.plot(x_line, reg.predict(x_line))\n",
    "plt.show()"
   ]
  },
  {
   "cell_type": "code",
   "execution_count": null,
   "metadata": {
    "collapsed": true
   },
   "outputs": [],
   "source": [
    "co2"
   ]
  }
 ],
 "metadata": {
  "kernelspec": {
   "display_name": "Python 2",
   "language": "python",
   "name": "python2"
  },
  "language_info": {
   "codemirror_mode": {
    "name": "ipython",
    "version": 2
   },
   "file_extension": ".py",
   "mimetype": "text/x-python",
   "name": "python",
   "nbconvert_exporter": "python",
   "pygments_lexer": "ipython2",
   "version": "2.7.14"
  }
 },
 "nbformat": 4,
 "nbformat_minor": 2
}
